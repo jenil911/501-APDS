{
 "cells": [
  {
   "cell_type": "markdown",
   "metadata": {},
   "source": [
    "#### Problem Description:\n",
    "\n",
    "A school has 100 lockers and 100 students. All lockers are closed on the first day of school. As the students enter, the first student, denoted S1, opens every locker. Then the second student, S2, begins with the second locker, denoted L2, and closes every other locker. Student S3 begins with the third locker and changes every third locker (closes it if it was open, and opens it if it was closed). Student S4 begins with locker L4 and changes every fourth locker. Student S5 starts with L5 and changes every fifth locker, and so on, until student S100 changes L100.\n",
    "\n",
    "After all the students have passed through the building and changed the lockers, which lockers are open? Write a program to find your answer. The program should display the answer like this: \n",
    "\n",
    "Locker x is open.\n",
    "Locker y is open.\n",
    "…\n",
    "Locker z is open.\n"
   ]
  },
  {
   "cell_type": "markdown",
   "metadata": {},
   "source": [
    "#### Analysis:\n",
    "\n",
    "There is an issue with 100 lockers and 100 pupils. Each student follows a set routine when changing the status of some lockers (from open to closed or closed to open) on each pass. Following is the pattern:\n",
    "\n",
    "Student S1 opens all of the lockers and alters them.\n",
    "\n",
    "Every second locker (which modifies how even-numbered lockers are configured) is changed by student S2.\n",
    "\n",
    "Every third locker, student S3 switches it up (or uses a pattern), and so on.\n",
    "\n",
    "Once all 100 students have been through and analyzed the patterns of the lockers, the objective is to identify which lockers are open.\n",
    "\n",
    "Input:\n",
    "\n",
    "Since the issue already has 100 lockers and 100 students, there is no need for direct input.\n",
    "\n",
    "Output:\n",
    "\n",
    "Once all students have passed through them, the program should indicate the numbers of the lockers that are still available.\n",
    "Using a Boolean array of size 100 to represent each locker's state (true for open, false for closed), you can use this method to solve the problem. After that, change the locker statuses in accordance with each student's pattern. Print out the open locker numbers at the conclusion.\n",
    "\n"
   ]
  },
  {
   "cell_type": "markdown",
   "metadata": {},
   "source": [
    "#### Design:\n",
    "\n",
    "Create an array called \"lockers\" with a capacity of 101 (index 0 is empty because lockers are numbered starting at 1). Create an array with false as the initial value for each entry to represent closed lockers.\n",
    "\n",
    "From 1 to 100, for each student i:\n",
    "\n",
    "Step i through the lockers repeatedly.\n",
    "Use lockers[j] = not lockers[j] to change the status of the locker in the 'lockers' array.\n",
    "The 'lockers' array should be iterated through, excluding index 0:\n",
    "\n",
    "Print \"Locker k is open\" if the locker state at index k is true, where k is the locker number.\n",
    "\n",
    "Pseudocode:\n",
    "Make a 100-element Boolean array called \"lockers\" with the starting value of \"false\" (closed).\n",
    "\n",
    "From 1 to 100, for each student i:\n",
    "    For each locker j with a step of i, from i to 100:\n",
    "        'Lockers[j]' state can be changed.\n",
    "\n",
    "From 1 to 100, there are k lockers.\n",
    "    If 'lockers[k]' is accurate:\n",
    "        Put \"Locker k is open\" in print.\n"
   ]
  },
  {
   "cell_type": "code",
   "execution_count": 17,
   "metadata": {},
   "outputs": [],
   "source": [
    "def display_open_lockers(found_unlocked_locks):\n",
    "    for vault_charlie in found_unlocked_locks:\n",
    "        print(f\"Locker {vault_charlie} is open\")\n"
   ]
  },
  {
   "cell_type": "code",
   "execution_count": 18,
   "metadata": {},
   "outputs": [],
   "source": [
    "def boolean_lock(vault_alpha, vault_number):\n",
    "    vault_alpha[vault_number] = not vault_alpha[vault_number]\n"
   ]
  },
  {
   "cell_type": "code",
   "execution_count": 19,
   "metadata": {},
   "outputs": [],
   "source": [
    "def locate_unlocked_lockers(number_of_vaults):\n",
    "    vault_alpha = [False] * (number_of_vaults + 1)\n",
    "\n",
    "    for vault_user in range(1, number_of_vaults + 1):\n",
    "        for vault_charlie in range(vault_user, number_of_vaults + 1, vault_user):\n",
    "            boolean_lock(vault_alpha, vault_charlie)\n",
    "\n",
    "    found_unlocked_locks = [idx for idx, boolean_statusofvault in enumerate(vault_alpha) if boolean_statusofvault]\n",
    "    return found_unlocked_locks"
   ]
  },
  {
   "cell_type": "code",
   "execution_count": 20,
   "metadata": {},
   "outputs": [
    {
     "name": "stdout",
     "output_type": "stream",
     "text": [
      "Locker 1 is open\n",
      "Locker 4 is open\n",
      "Locker 9 is open\n",
      "Locker 16 is open\n",
      "Locker 25 is open\n",
      "Locker 36 is open\n",
      "Locker 49 is open\n",
      "Locker 64 is open\n",
      "Locker 81 is open\n",
      "Locker 100 is open\n"
     ]
    }
   ],
   "source": [
    "if __name__ == \"__main__\":\n",
    "    number_of_vaults = 100\n",
    "    found_unlocked_locks = locate_unlocked_lockers(number_of_vaults)\n",
    "    display_open_lockers(found_unlocked_locks)"
   ]
  }
 ],
 "metadata": {
  "kernelspec": {
   "display_name": "Python 3",
   "language": "python",
   "name": "python3"
  },
  "language_info": {
   "codemirror_mode": {
    "name": "ipython",
    "version": 3
   },
   "file_extension": ".py",
   "mimetype": "text/x-python",
   "name": "python",
   "nbconvert_exporter": "python",
   "pygments_lexer": "ipython3",
   "version": "3.12.2"
  }
 },
 "nbformat": 4,
 "nbformat_minor": 2
}
